{
 "cells": [
  {
   "cell_type": "markdown",
   "id": "3e6b36ae",
   "metadata": {},
   "source": [
    "# Demonstration of the fourth message in the Superdense Coding Protocol"
   ]
  },
  {
   "cell_type": "markdown",
   "id": "f2e27289",
   "metadata": {},
   "source": [
    "Let's start from the Bell state used in the example of the superdense coding protocol, the Bell state known as $|\\Phi^+\\rangle$, we add subscripts to distinguish the qubits, subscript A is the qubit sent to Alice and subscript B is the qubit sent to Bob:\n",
    "\n",
    "$$|\\Phi^+\\rangle=\\tfrac{1}{\\sqrt{2}}\\Big(|00\\rangle+|11\\rangle\\Big)=\\tfrac{1}{\\sqrt{2}}\\Big(|0_B0_A\\rangle+|1_B1_A\\rangle\\Big)$$\n",
    "\n",
    "Then in step 2 the $ZX$ gate is applied as part of Alice's protocol (encoding rule for the intended message: $11$). Since this gate is applied to Alice's qubit, then Bob's qubt (the one on the left) remains the same, so that the operation to apply to the state of two qubits is $I\\otimes ZX$\n",
    "\n",
    "\\begin{align*}\n",
    "\\Big(I\\otimes ZX\\Big)\\tfrac{1}{\\sqrt{2}}\\Big(|0_B0_A\\rangle+|1_B1_A\\rangle\\Big) &= \\tfrac{1}{\\sqrt{2}}\\Big[\\Big(I\\otimes ZX\\Big)|0_B0_A\\rangle + \\Big(I\\otimes ZX\\Big)|1_B1_A\\rangle\\Big]\\\\\n",
    "&= \\tfrac{1}{\\sqrt{2}}\\Big[\\Big(I\\otimes Z\\Big)|0_B1_A\\rangle + \\Big(I\\otimes Z\\Big)|1_B0_A\\rangle\\Big]\\\\\n",
    "&= \\tfrac{1}{\\sqrt{2}}\\Big[-|0_B1_A\\rangle + |1_B0_A\\rangle\\Big]\\\\\n",
    "&= \\tfrac{1}{\\sqrt{2}}\\Big(-|01\\rangle + |10\\rangle\\Big)\n",
    "\\end{align*}\n",
    "\n",
    "In step 3, Bob's protocol is applied, that is, the message is decoded, for this the $CNOT$ gate is applied first with Alice's qubit as the control and Bob's qubit as the target ($CNOT_{AB}$):\n",
    "\n",
    "$$CNOT_{AB}\\Big[\\tfrac{1}{\\sqrt{2}}\\Big(-|0_B1_A\\rangle + |1_B0_A\\rangle\\Big)\\Big]=\\tfrac{1}{\\sqrt{2}}\\Big(-|1_B1_A\\rangle + |1_B0_A\\rangle\\Big)$$\n",
    "\n",
    "Now the gate $H$ must be applied to Alice's qubit, so the operation to apply to the state of two qubits is $I\\otimes H=I_B\\otimes H_A$\n",
    "\n",
    "\\begin{align*}\n",
    "I_B\\otimes H_A\\Big[\\tfrac{1}{\\sqrt{2}}\\Big(-|1_B1_A\\rangle + |1_B0_A\\rangle\\Big)\\Big] &= I_B\\otimes H_A\\Big[\\tfrac{1}{\\sqrt{2}}\\Big(-|1_B\\rangle\\otimes |1_A\\rangle + |1_B\\rangle\\otimes |0_A\\rangle\\Big)\\Big] \\\\\n",
    "&= I_B\\otimes H_A\\Big[\\tfrac{1}{\\sqrt{2}}\\Big(-|1_B\\rangle\\otimes |1_A\\rangle\\Big) + \\tfrac{1}{\\sqrt{2}}|1_B\\rangle\\otimes |0_A\\rangle\\Big] \\\\\n",
    "&= I_B\\otimes H_A\\Big[\\tfrac{1}{\\sqrt{2}}|1_B\\rangle\\otimes |0_A\\rangle-\\tfrac{1}{\\sqrt{2}}|1_B\\rangle\\otimes |1_A\\rangle\\Big] \\\\\n",
    "&= I_B\\otimes H_A\\Big[\\tfrac{1}{\\sqrt{2}}|1_B\\rangle\\otimes |0_A\\rangle+\\tfrac{1}{\\sqrt{2}}|1_B\\rangle\\otimes \\Big(-|1_A\\rangle\\Big)\\Big] \\\\\n",
    "&= I_B\\otimes H_A\\Big[|1_B\\rangle\\otimes \\Big(\\tfrac{1}{\\sqrt{2}}|0_A\\rangle\\Big)+|1_B\\rangle\\otimes \\Big(-\\tfrac{1}{\\sqrt{2}}|1_A\\rangle\\Big)\\Big] \\\\\n",
    "&= |1_B\\rangle\\otimes |1_A\\rangle \\\\\n",
    "&= |1_B1_A\\rangle \\\\\n",
    "&= |11\\rangle\n",
    "\\end{align*}\n",
    "\n",
    "**Note that $|11\\rangle$ is positive**\n",
    "\n",
    "<br>\n",
    "\n",
    "When the $I_B\\otimes H_A$ operation is applied, we have to apply $H$ to the rightmost qubit (Alice's) leaves us the state $|1_A,\\rangle$ let's see the detail:\n",
    "\n",
    "$$H\\Big(\\tfrac{1}{\\sqrt{2}}|0\\rangle\\Big)=\\tfrac{1}{\\sqrt{2}}\\tfrac{1}{\\sqrt{2}}\\Big(|0\\rangle+|1\\rangle\\Big)=\\tfrac{1}{2}\\Big(|0\\rangle+|1\\rangle\\Big)$$\n",
    "\n",
    "$$H\\Big(-\\tfrac{1}{\\sqrt{2}}|1\\rangle\\Big)=\\tfrac{1}{\\sqrt{2}}\\Big(-\\tfrac{1}{\\sqrt{2}}\\Big)\\Big(|0\\rangle-|1\\rangle\\Big)=-\\tfrac{1}{2}\\Big(|0\\rangle-|1\\rangle\\Big)$$\n",
    "\n",
    "Now we add both parts:\n",
    "\n",
    "\\begin{align*}\n",
    "H\\Big(\\tfrac{1}{\\sqrt{2}}|0\\rangle\\Big) + H\\Big(-\\tfrac{1}{\\sqrt{2}}|1\\rangle\\Big) &= \\tfrac{1}{2}\\Big(|0\\rangle+|1\\rangle\\Big) - \\tfrac{1}{2}\\Big(|0\\rangle-|1\\rangle\\Big)\\\\\n",
    "&= \\tfrac{1}{2}|0\\rangle+\\tfrac{1}{2}|1\\rangle-\\tfrac{1}{2}|0\\rangle+\\tfrac{1}{2}|1\\rangle\\\\\n",
    "&= \\tfrac{1}{2}|1\\rangle+\\tfrac{1}{2}|1\\rangle\\\\\n",
    "&= |1\\rangle\\\\\n",
    "&= |1_A\\rangle\n",
    "\\end{align*}\n",
    "\n",
    "<br>\n",
    "<br>\n",
    "<br>\n",
    "\n",
    "### Therefore the result for the fourth case is $|11\\rangle$, that is, positive\n",
    "\n",
    "<br>\n",
    "<br>"
   ]
  },
  {
   "cell_type": "markdown",
   "id": "e6b22af7",
   "metadata": {},
   "source": [
    "# Proof with matrix operations"
   ]
  },
  {
   "cell_type": "code",
   "execution_count": 1,
   "id": "e91be228",
   "metadata": {},
   "outputs": [],
   "source": [
    "import numpy as np"
   ]
  },
  {
   "cell_type": "code",
   "execution_count": 2,
   "id": "5c87eb1b",
   "metadata": {},
   "outputs": [],
   "source": [
    "ket_0 = np.array([[1+0j],\n",
    "                  [0+0j]])\n",
    "\n",
    "ket_1 = np.array([[0+0j],\n",
    "                 [1+0j]])"
   ]
  },
  {
   "cell_type": "code",
   "execution_count": 3,
   "id": "3e8e94b7",
   "metadata": {},
   "outputs": [
    {
     "name": "stdout",
     "output_type": "stream",
     "text": [
      "ket_00=\n",
      " [[1.+0.j]\n",
      " [0.+0.j]\n",
      " [0.+0.j]\n",
      " [0.+0.j]]\n",
      "ket_01=\n",
      " [[0.+0.j]\n",
      " [1.+0.j]\n",
      " [0.+0.j]\n",
      " [0.+0.j]]\n",
      "ket_10=\n",
      " [[0.+0.j]\n",
      " [0.+0.j]\n",
      " [1.+0.j]\n",
      " [0.+0.j]]\n",
      "ket_11=\n",
      " [[0.+0.j]\n",
      " [0.+0.j]\n",
      " [0.+0.j]\n",
      " [1.+0.j]]\n"
     ]
    }
   ],
   "source": [
    "ket_00 = np.kron(ket_0, ket_0)\n",
    "ket_01 = np.kron(ket_0, ket_1)\n",
    "ket_10 = np.kron(ket_1, ket_0)\n",
    "ket_11 = np.kron(ket_1, ket_1)\n",
    "\n",
    "print('ket_00=\\n',ket_00)\n",
    "print('ket_01=\\n',ket_01)\n",
    "print('ket_10=\\n',ket_10)\n",
    "print('ket_11=\\n',ket_11)"
   ]
  },
  {
   "cell_type": "markdown",
   "id": "ff45148a",
   "metadata": {},
   "source": [
    "We define the gates that we will use"
   ]
  },
  {
   "cell_type": "code",
   "execution_count": 4,
   "id": "5cbac181",
   "metadata": {},
   "outputs": [],
   "source": [
    "I = np.array([[ 1+0j,  0+0j],\n",
    "              [ 0+0j,  1+0j]])\n",
    "\n",
    "X = np.array([[ 0+0j,  1+0j],\n",
    "              [ 1+0j,  0+0j]])\n",
    "\n",
    "Z = np.array([[ 1+0j,  0+0j],\n",
    "              [ 0+0j, -1+0j]])\n",
    "\n",
    "H_squared = np.array([[ 1+0j,  1+0j],\n",
    "                      [ 1+0j, -1+0j]])\n",
    "\n",
    "H = np.multiply(H_squared, 1/(np.sqrt(2)))\n",
    "\n",
    "CNOT = np.array([[ 1+0j,  0+0j,  0+0j,  0+0j],\n",
    "                 [ 0+0j,  0+0j,  0+0j,  1+0j],\n",
    "                 [ 0+0j,  0+0j,  1+0j,  0+0j],\n",
    "                 [ 0+0j,  1+0j,  0+0j,  0+0j]])"
   ]
  },
  {
   "cell_type": "code",
   "execution_count": 5,
   "id": "9be8752b",
   "metadata": {},
   "outputs": [
    {
     "data": {
      "text/plain": [
       "array([[1.+0.j, 0.+0.j, 0.+0.j, 0.+0.j],\n",
       "       [0.+0.j, 0.+0.j, 0.+0.j, 1.+0.j],\n",
       "       [0.+0.j, 0.+0.j, 1.+0.j, 0.+0.j],\n",
       "       [0.+0.j, 1.+0.j, 0.+0.j, 0.+0.j]])"
      ]
     },
     "execution_count": 5,
     "metadata": {},
     "output_type": "execute_result"
    }
   ],
   "source": [
    "CNOT"
   ]
  },
  {
   "cell_type": "code",
   "execution_count": 6,
   "id": "18e6c053",
   "metadata": {},
   "outputs": [
    {
     "data": {
      "text/plain": [
       "array([[ 0.+0.j,  1.+0.j],\n",
       "       [-1.+0.j,  0.+0.j]])"
      ]
     },
     "execution_count": 6,
     "metadata": {},
     "output_type": "execute_result"
    }
   ],
   "source": [
    "ZX = np.matmul(Z,X)\n",
    "\n",
    "ZX"
   ]
  },
  {
   "cell_type": "markdown",
   "id": "3014d247",
   "metadata": {},
   "source": [
    "The two-qubit gate $I\\otimes H$"
   ]
  },
  {
   "cell_type": "code",
   "execution_count": 7,
   "id": "91482594",
   "metadata": {},
   "outputs": [
    {
     "data": {
      "text/plain": [
       "array([[ 0.70710678+0.j,  0.70710678+0.j,  0.        +0.j,\n",
       "         0.        +0.j],\n",
       "       [ 0.70710678+0.j, -0.70710678+0.j,  0.        +0.j,\n",
       "        -0.        +0.j],\n",
       "       [ 0.        +0.j,  0.        +0.j,  0.70710678+0.j,\n",
       "         0.70710678+0.j],\n",
       "       [ 0.        +0.j, -0.        +0.j,  0.70710678+0.j,\n",
       "        -0.70710678+0.j]])"
      ]
     },
     "execution_count": 7,
     "metadata": {},
     "output_type": "execute_result"
    }
   ],
   "source": [
    "IoH = np.kron(I, H)\n",
    "\n",
    "IoH"
   ]
  },
  {
   "cell_type": "markdown",
   "id": "fdc8a79d",
   "metadata": {},
   "source": [
    "Let's create the Bell state that is used in step 1 of the protocol"
   ]
  },
  {
   "cell_type": "code",
   "execution_count": 8,
   "id": "e1a52a0e",
   "metadata": {},
   "outputs": [
    {
     "data": {
      "text/plain": [
       "array([[0.70710678+0.j],\n",
       "       [0.        +0.j],\n",
       "       [0.        +0.j],\n",
       "       [0.70710678+0.j]])"
      ]
     },
     "execution_count": 8,
     "metadata": {},
     "output_type": "execute_result"
    }
   ],
   "source": [
    "IoH_ket_00 = np.matmul(IoH, ket_00)\n",
    "\n",
    "Bell_1 = np.matmul(CNOT, IoH_ket_00)\n",
    "\n",
    "Bell_1"
   ]
  },
  {
   "cell_type": "markdown",
   "id": "6e77c48e",
   "metadata": {},
   "source": [
    "The two-quibit gate that Alice uses to encode the message $I\\otimes ZX$"
   ]
  },
  {
   "cell_type": "code",
   "execution_count": 9,
   "id": "d253eb3d",
   "metadata": {},
   "outputs": [
    {
     "data": {
      "text/plain": [
       "array([[ 0.+0.j,  1.+0.j,  0.+0.j,  0.+0.j],\n",
       "       [-1.+0.j,  0.+0.j, -0.+0.j,  0.+0.j],\n",
       "       [ 0.+0.j,  0.+0.j,  0.+0.j,  1.+0.j],\n",
       "       [-0.+0.j,  0.+0.j, -1.+0.j,  0.+0.j]])"
      ]
     },
     "execution_count": 9,
     "metadata": {},
     "output_type": "execute_result"
    }
   ],
   "source": [
    "IoZX = np.kron(I, ZX)\n",
    "\n",
    "IoZX"
   ]
  },
  {
   "cell_type": "markdown",
   "id": "50fcd3a4",
   "metadata": {},
   "source": [
    "The resulting Bell state $-|\\Psi^-\\rangle$"
   ]
  },
  {
   "cell_type": "code",
   "execution_count": 10,
   "id": "fe489a95",
   "metadata": {},
   "outputs": [
    {
     "data": {
      "text/plain": [
       "array([[ 0.        +0.j],\n",
       "       [-0.70710678+0.j],\n",
       "       [ 0.70710678+0.j],\n",
       "       [ 0.        +0.j]])"
      ]
     },
     "execution_count": 10,
     "metadata": {},
     "output_type": "execute_result"
    }
   ],
   "source": [
    "Bell_4_neg = np.matmul(IoZX, Bell_1)\n",
    "\n",
    "Bell_4_neg"
   ]
  },
  {
   "cell_type": "markdown",
   "id": "d0e92e07",
   "metadata": {},
   "source": [
    "First part of step three of the protocol, apply the $CNOT$ gate with Alice's qubit as control and Bob's as target"
   ]
  },
  {
   "cell_type": "code",
   "execution_count": 11,
   "id": "cf956d25",
   "metadata": {},
   "outputs": [
    {
     "data": {
      "text/plain": [
       "array([[ 0.        +0.j],\n",
       "       [ 0.        +0.j],\n",
       "       [ 0.70710678+0.j],\n",
       "       [-0.70710678+0.j]])"
      ]
     },
     "execution_count": 11,
     "metadata": {},
     "output_type": "execute_result"
    }
   ],
   "source": [
    "Bell_4_neg_after_cnot = np.matmul(CNOT, Bell_4_neg)\n",
    "\n",
    "Bell_4_neg_after_cnot"
   ]
  },
  {
   "cell_type": "markdown",
   "id": "f6318534",
   "metadata": {},
   "source": [
    "Second part of step three of the protocol, apply gate H to Alice's qubit"
   ]
  },
  {
   "cell_type": "code",
   "execution_count": 12,
   "id": "970e94ca",
   "metadata": {},
   "outputs": [
    {
     "data": {
      "text/plain": [
       "array([[0.+0.j],\n",
       "       [0.+0.j],\n",
       "       [0.+0.j],\n",
       "       [1.+0.j]])"
      ]
     },
     "execution_count": 12,
     "metadata": {},
     "output_type": "execute_result"
    }
   ],
   "source": [
    "Bell_4_neg_after_cnot_after_h = np.matmul(IoH, Bell_4_neg_after_cnot)\n",
    "\n",
    "Bell_4_neg_after_cnot_after_h"
   ]
  },
  {
   "cell_type": "markdown",
   "id": "aa6d3ba9",
   "metadata": {},
   "source": [
    "**This result is $|11\\rangle$, that is, it is positive**"
   ]
  },
  {
   "cell_type": "code",
   "execution_count": null,
   "id": "e580469d",
   "metadata": {},
   "outputs": [],
   "source": []
  }
 ],
 "metadata": {
  "kernelspec": {
   "display_name": "Python 3",
   "language": "python",
   "name": "python3"
  },
  "language_info": {
   "codemirror_mode": {
    "name": "ipython",
    "version": 3
   },
   "file_extension": ".py",
   "mimetype": "text/x-python",
   "name": "python",
   "nbconvert_exporter": "python",
   "pygments_lexer": "ipython3",
   "version": "3.9.5"
  }
 },
 "nbformat": 4,
 "nbformat_minor": 5
}
